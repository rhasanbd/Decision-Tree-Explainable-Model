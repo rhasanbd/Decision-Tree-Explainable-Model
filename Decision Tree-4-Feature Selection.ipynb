{
 "cells": [
  {
   "cell_type": "markdown",
   "id": "b270fded",
   "metadata": {},
   "source": [
    "# Decision Tree - Feature Selection\n",
    "\n",
    "In this notebook, we perform feature selection using the Decision Tree model. It enables us to detrmine the **relative importance of each feature**, then select the features of higher importance. \n",
    "\n",
    "The Decision Tree training algorithm, e.g., classification and regression trees (CART), provides importance scores of the features. It measures a feature’s importance by looking at how much the tree nodes that use that feature reduce impurity based on the Gini index or entropy. \n",
    "\n",
    "In Scikit-Learn, we can get the feature importance scores by using the $feature\\_importances\\_$ attribute of the Decidsion Tree model."
   ]
  },
  {
   "cell_type": "code",
   "execution_count": 1,
   "id": "779e19a3",
   "metadata": {},
   "outputs": [],
   "source": [
    "import numpy as np\n",
    "\n",
    "import matplotlib as mpl\n",
    "import matplotlib.pyplot as plt\n",
    "\n",
    "from sklearn.datasets import load_iris\n",
    "from sklearn.tree import DecisionTreeClassifier\n",
    "from sklearn.metrics import accuracy_score\n",
    "from sklearn.tree import export_graphviz\n",
    "import graphviz"
   ]
  },
  {
   "cell_type": "markdown",
   "id": "0a483603",
   "metadata": {},
   "source": [
    "# Dataset\n",
    "\n",
    "\n",
    "We use the Iris dataset, which is a multivariate data set. \n",
    "\n",
    "This is a famous dataset that contains the sepal and petal length and width of 150 iris flowers of three different species: Iris-Setosa, Iris-Versicolor, and Iris-Virginica\n",
    "\n",
    "There are 4 features: \n",
    "- sepal length (cm)\n",
    "- sepal width (cm)\n",
    "- petal length (cm)\n",
    "- petal width (cm)\n",
    "\n",
    "Total number of samples: 150\n",
    "\n",
    "The dataset is also known as Fisher's Iris data set as it was introduced by the British statistician and biologist Ronald Fisher in his 1936 paper \"The use of multiple measurements in taxonomic problems as an example of linear discriminant analysis\".\n",
    "\n",
    "\n",
    "<img src=\"http://engineering.unl.edu/images/uploads/IrisFlowers.png\" width=800 height=400>\n"
   ]
  },
  {
   "cell_type": "markdown",
   "id": "582e7ed4",
   "metadata": {},
   "source": [
    "## Explore the Dataset"
   ]
  },
  {
   "cell_type": "code",
   "execution_count": 2,
   "id": "47caa36f",
   "metadata": {},
   "outputs": [
    {
     "name": "stdout",
     "output_type": "stream",
     "text": [
      "\n",
      "Key Values: \n",
      " ['data', 'target', 'frame', 'target_names', 'DESCR', 'feature_names', 'filename', 'data_module']\n",
      "\n",
      "Feature Names: \n",
      " ['sepal length (cm)', 'sepal width (cm)', 'petal length (cm)', 'petal width (cm)']\n",
      "\n",
      "Target Names: \n",
      " ['setosa', 'versicolor', 'virginica']\n"
     ]
    }
   ],
   "source": [
    "iris = load_iris()\n",
    "\n",
    "# See the key values\n",
    "print(\"\\nKey Values: \\n\", list(iris.keys()))\n",
    "\n",
    "# The feature names\n",
    "print(\"\\nFeature Names: \\n\", list(iris.feature_names))\n",
    "\n",
    "# The target names\n",
    "print(\"\\nTarget Names: \\n\", list(iris.target_names))\n",
    "\n",
    "# The target values (codes)\n",
    "#print(\"\\nTarget Values: \\n\", list(iris.target))"
   ]
  },
  {
   "cell_type": "markdown",
   "id": "e1457fd8",
   "metadata": {},
   "source": [
    "## Create Data Matrix (X) and the 1D Target Array (y)"
   ]
  },
  {
   "cell_type": "code",
   "execution_count": 3,
   "id": "6f458f81",
   "metadata": {},
   "outputs": [
    {
     "name": "stdout",
     "output_type": "stream",
     "text": [
      "X shape:  (150, 4)\n",
      "y shape:  (150,)\n",
      "\n",
      "X data type:  float64\n",
      "y data type:  int64\n"
     ]
    }
   ],
   "source": [
    "# Feature matrix\n",
    "X = iris[\"data\"]\n",
    "\n",
    "# Target Array\n",
    "y = iris[\"target\"]\n",
    "\n",
    "\n",
    "print(\"X shape: \", X.shape)\n",
    "print(\"y shape: \", y.shape)\n",
    "\n",
    "print(\"\\nX data type: \", X.dtype)\n",
    "print(\"y data type: \", y.dtype)"
   ]
  },
  {
   "cell_type": "markdown",
   "id": "d9a3d9c6",
   "metadata": {},
   "source": [
    "## Train a Decision Tree Model\n",
    "\n",
    "We train a Decision Tree model. Ideally, we must tune the hyperparameters. In this illustration, we trained a deep tree with maximum depth 4. This will allow the algorithm to use all or the majority of the features. Then, by visualizing the tree, we will be able to see which features have more importance. Later, at the end of this notebook, we will compute the feature importance from the trained model."
   ]
  },
  {
   "cell_type": "code",
   "execution_count": 4,
   "id": "e116ffa5",
   "metadata": {},
   "outputs": [
    {
     "name": "stdout",
     "output_type": "stream",
     "text": [
      "Accuracy:  0.9933333333333333\n"
     ]
    }
   ],
   "source": [
    "tree_clf = DecisionTreeClassifier(max_depth=4)\n",
    "tree_clf.fit(X, y)\n",
    "\n",
    "y_predict = tree_clf.predict(X)\n",
    "\n",
    "print(\"Accuracy: \", accuracy_score(y, y_predict))"
   ]
  },
  {
   "cell_type": "markdown",
   "id": "67b8a4c5",
   "metadata": {},
   "source": [
    "## Visualizing The Decision Tree"
   ]
  },
  {
   "cell_type": "code",
   "execution_count": 5,
   "id": "8f1bc5cb",
   "metadata": {},
   "outputs": [
    {
     "data": {
      "image/svg+xml": [
       "<?xml version=\"1.0\" encoding=\"UTF-8\" standalone=\"no\"?>\n",
       "<!DOCTYPE svg PUBLIC \"-//W3C//DTD SVG 1.1//EN\"\n",
       " \"http://www.w3.org/Graphics/SVG/1.1/DTD/svg11.dtd\">\n",
       "<!-- Generated by graphviz version 2.36.0 (20140111.2315)\n",
       " -->\n",
       "<!-- Title: Tree Pages: 1 -->\n",
       "<svg width=\"848pt\" height=\"556pt\"\n",
       " viewBox=\"0.00 0.00 848.00 556.00\" xmlns=\"http://www.w3.org/2000/svg\" xmlns:xlink=\"http://www.w3.org/1999/xlink\">\n",
       "<g id=\"graph0\" class=\"graph\" transform=\"scale(1 1) rotate(0) translate(4 552)\">\n",
       "<title>Tree</title>\n",
       "<polygon fill=\"white\" stroke=\"none\" points=\"-4,4 -4,-552 844,-552 844,4 -4,4\"/>\n",
       "<!-- 0 -->\n",
       "<g id=\"node1\" class=\"node\"><title>0</title>\n",
       "<path fill=\"#ffffff\" stroke=\"black\" d=\"M502,-547.5C502,-547.5 354,-547.5 354,-547.5 348,-547.5 342,-541.5 342,-535.5 342,-535.5 342,-476.5 342,-476.5 342,-470.5 348,-464.5 354,-464.5 354,-464.5 502,-464.5 502,-464.5 508,-464.5 514,-470.5 514,-476.5 514,-476.5 514,-535.5 514,-535.5 514,-541.5 508,-547.5 502,-547.5\"/>\n",
       "<text text-anchor=\"middle\" x=\"428\" y=\"-532.3\" font-family=\"Helvetica,sans-Serif\" font-size=\"14.00\">petal length (cm) &lt;= 2.45</text>\n",
       "<text text-anchor=\"middle\" x=\"428\" y=\"-517.3\" font-family=\"Helvetica,sans-Serif\" font-size=\"14.00\">gini = 0.667</text>\n",
       "<text text-anchor=\"middle\" x=\"428\" y=\"-502.3\" font-family=\"Helvetica,sans-Serif\" font-size=\"14.00\">samples = 150</text>\n",
       "<text text-anchor=\"middle\" x=\"428\" y=\"-487.3\" font-family=\"Helvetica,sans-Serif\" font-size=\"14.00\">value = [50, 50, 50]</text>\n",
       "<text text-anchor=\"middle\" x=\"428\" y=\"-472.3\" font-family=\"Helvetica,sans-Serif\" font-size=\"14.00\">class = setosa</text>\n",
       "</g>\n",
       "<!-- 1 -->\n",
       "<g id=\"node2\" class=\"node\"><title>1</title>\n",
       "<path fill=\"#e58139\" stroke=\"black\" d=\"M395,-420C395,-420 299,-420 299,-420 293,-420 287,-414 287,-408 287,-408 287,-364 287,-364 287,-358 293,-352 299,-352 299,-352 395,-352 395,-352 401,-352 407,-358 407,-364 407,-364 407,-408 407,-408 407,-414 401,-420 395,-420\"/>\n",
       "<text text-anchor=\"middle\" x=\"347\" y=\"-404.8\" font-family=\"Helvetica,sans-Serif\" font-size=\"14.00\">gini = 0.0</text>\n",
       "<text text-anchor=\"middle\" x=\"347\" y=\"-389.8\" font-family=\"Helvetica,sans-Serif\" font-size=\"14.00\">samples = 50</text>\n",
       "<text text-anchor=\"middle\" x=\"347\" y=\"-374.8\" font-family=\"Helvetica,sans-Serif\" font-size=\"14.00\">value = [50, 0, 0]</text>\n",
       "<text text-anchor=\"middle\" x=\"347\" y=\"-359.8\" font-family=\"Helvetica,sans-Serif\" font-size=\"14.00\">class = setosa</text>\n",
       "</g>\n",
       "<!-- 0&#45;&gt;1 -->\n",
       "<g id=\"edge1\" class=\"edge\"><title>0&#45;&gt;1</title>\n",
       "<path fill=\"none\" stroke=\"black\" d=\"M400.124,-464.391C392.17,-452.804 383.494,-440.165 375.503,-428.523\"/>\n",
       "<polygon fill=\"black\" stroke=\"black\" points=\"378.371,-426.516 369.826,-420.252 372.6,-430.478 378.371,-426.516\"/>\n",
       "<text text-anchor=\"middle\" x=\"365.256\" y=\"-441.131\" font-family=\"Helvetica,sans-Serif\" font-size=\"14.00\">True</text>\n",
       "</g>\n",
       "<!-- 2 -->\n",
       "<g id=\"node3\" class=\"node\"><title>2</title>\n",
       "<path fill=\"#ffffff\" stroke=\"black\" d=\"M580.25,-427.5C580.25,-427.5 437.75,-427.5 437.75,-427.5 431.75,-427.5 425.75,-421.5 425.75,-415.5 425.75,-415.5 425.75,-356.5 425.75,-356.5 425.75,-350.5 431.75,-344.5 437.75,-344.5 437.75,-344.5 580.25,-344.5 580.25,-344.5 586.25,-344.5 592.25,-350.5 592.25,-356.5 592.25,-356.5 592.25,-415.5 592.25,-415.5 592.25,-421.5 586.25,-427.5 580.25,-427.5\"/>\n",
       "<text text-anchor=\"middle\" x=\"509\" y=\"-412.3\" font-family=\"Helvetica,sans-Serif\" font-size=\"14.00\">petal width (cm) &lt;= 1.75</text>\n",
       "<text text-anchor=\"middle\" x=\"509\" y=\"-397.3\" font-family=\"Helvetica,sans-Serif\" font-size=\"14.00\">gini = 0.5</text>\n",
       "<text text-anchor=\"middle\" x=\"509\" y=\"-382.3\" font-family=\"Helvetica,sans-Serif\" font-size=\"14.00\">samples = 100</text>\n",
       "<text text-anchor=\"middle\" x=\"509\" y=\"-367.3\" font-family=\"Helvetica,sans-Serif\" font-size=\"14.00\">value = [0, 50, 50]</text>\n",
       "<text text-anchor=\"middle\" x=\"509\" y=\"-352.3\" font-family=\"Helvetica,sans-Serif\" font-size=\"14.00\">class = versicolor</text>\n",
       "</g>\n",
       "<!-- 0&#45;&gt;2 -->\n",
       "<g id=\"edge2\" class=\"edge\"><title>0&#45;&gt;2</title>\n",
       "<path fill=\"none\" stroke=\"black\" d=\"M455.876,-464.391C462.112,-455.306 468.793,-445.574 475.239,-436.183\"/>\n",
       "<polygon fill=\"black\" stroke=\"black\" points=\"478.299,-437.909 481.073,-427.684 472.528,-433.947 478.299,-437.909\"/>\n",
       "<text text-anchor=\"middle\" x=\"485.643\" y=\"-448.563\" font-family=\"Helvetica,sans-Serif\" font-size=\"14.00\">False</text>\n",
       "</g>\n",
       "<!-- 3 -->\n",
       "<g id=\"node4\" class=\"node\"><title>3</title>\n",
       "<path fill=\"#4de88e\" stroke=\"black\" d=\"M479,-307.5C479,-307.5 331,-307.5 331,-307.5 325,-307.5 319,-301.5 319,-295.5 319,-295.5 319,-236.5 319,-236.5 319,-230.5 325,-224.5 331,-224.5 331,-224.5 479,-224.5 479,-224.5 485,-224.5 491,-230.5 491,-236.5 491,-236.5 491,-295.5 491,-295.5 491,-301.5 485,-307.5 479,-307.5\"/>\n",
       "<text text-anchor=\"middle\" x=\"405\" y=\"-292.3\" font-family=\"Helvetica,sans-Serif\" font-size=\"14.00\">petal length (cm) &lt;= 4.95</text>\n",
       "<text text-anchor=\"middle\" x=\"405\" y=\"-277.3\" font-family=\"Helvetica,sans-Serif\" font-size=\"14.00\">gini = 0.168</text>\n",
       "<text text-anchor=\"middle\" x=\"405\" y=\"-262.3\" font-family=\"Helvetica,sans-Serif\" font-size=\"14.00\">samples = 54</text>\n",
       "<text text-anchor=\"middle\" x=\"405\" y=\"-247.3\" font-family=\"Helvetica,sans-Serif\" font-size=\"14.00\">value = [0, 49, 5]</text>\n",
       "<text text-anchor=\"middle\" x=\"405\" y=\"-232.3\" font-family=\"Helvetica,sans-Serif\" font-size=\"14.00\">class = versicolor</text>\n",
       "</g>\n",
       "<!-- 2&#45;&gt;3 -->\n",
       "<g id=\"edge3\" class=\"edge\"><title>2&#45;&gt;3</title>\n",
       "<path fill=\"none\" stroke=\"black\" d=\"M473.209,-344.391C464.957,-335.028 456.099,-324.977 447.589,-315.322\"/>\n",
       "<polygon fill=\"black\" stroke=\"black\" points=\"450.095,-312.872 440.857,-307.684 444.843,-317.5 450.095,-312.872\"/>\n",
       "</g>\n",
       "<!-- 10 -->\n",
       "<g id=\"node11\" class=\"node\"><title>10</title>\n",
       "<path fill=\"#843de6\" stroke=\"black\" d=\"M688,-307.5C688,-307.5 540,-307.5 540,-307.5 534,-307.5 528,-301.5 528,-295.5 528,-295.5 528,-236.5 528,-236.5 528,-230.5 534,-224.5 540,-224.5 540,-224.5 688,-224.5 688,-224.5 694,-224.5 700,-230.5 700,-236.5 700,-236.5 700,-295.5 700,-295.5 700,-301.5 694,-307.5 688,-307.5\"/>\n",
       "<text text-anchor=\"middle\" x=\"614\" y=\"-292.3\" font-family=\"Helvetica,sans-Serif\" font-size=\"14.00\">petal length (cm) &lt;= 4.85</text>\n",
       "<text text-anchor=\"middle\" x=\"614\" y=\"-277.3\" font-family=\"Helvetica,sans-Serif\" font-size=\"14.00\">gini = 0.043</text>\n",
       "<text text-anchor=\"middle\" x=\"614\" y=\"-262.3\" font-family=\"Helvetica,sans-Serif\" font-size=\"14.00\">samples = 46</text>\n",
       "<text text-anchor=\"middle\" x=\"614\" y=\"-247.3\" font-family=\"Helvetica,sans-Serif\" font-size=\"14.00\">value = [0, 1, 45]</text>\n",
       "<text text-anchor=\"middle\" x=\"614\" y=\"-232.3\" font-family=\"Helvetica,sans-Serif\" font-size=\"14.00\">class = virginica</text>\n",
       "</g>\n",
       "<!-- 2&#45;&gt;10 -->\n",
       "<g id=\"edge10\" class=\"edge\"><title>2&#45;&gt;10</title>\n",
       "<path fill=\"none\" stroke=\"black\" d=\"M545.135,-344.391C553.467,-335.028 562.41,-324.977 571.002,-315.322\"/>\n",
       "<polygon fill=\"black\" stroke=\"black\" points=\"573.765,-317.481 577.798,-307.684 568.536,-312.828 573.765,-317.481\"/>\n",
       "</g>\n",
       "<!-- 4 -->\n",
       "<g id=\"node5\" class=\"node\"><title>4</title>\n",
       "<path fill=\"#3de684\" stroke=\"black\" d=\"M271.25,-187.5C271.25,-187.5 128.75,-187.5 128.75,-187.5 122.75,-187.5 116.75,-181.5 116.75,-175.5 116.75,-175.5 116.75,-116.5 116.75,-116.5 116.75,-110.5 122.75,-104.5 128.75,-104.5 128.75,-104.5 271.25,-104.5 271.25,-104.5 277.25,-104.5 283.25,-110.5 283.25,-116.5 283.25,-116.5 283.25,-175.5 283.25,-175.5 283.25,-181.5 277.25,-187.5 271.25,-187.5\"/>\n",
       "<text text-anchor=\"middle\" x=\"200\" y=\"-172.3\" font-family=\"Helvetica,sans-Serif\" font-size=\"14.00\">petal width (cm) &lt;= 1.65</text>\n",
       "<text text-anchor=\"middle\" x=\"200\" y=\"-157.3\" font-family=\"Helvetica,sans-Serif\" font-size=\"14.00\">gini = 0.041</text>\n",
       "<text text-anchor=\"middle\" x=\"200\" y=\"-142.3\" font-family=\"Helvetica,sans-Serif\" font-size=\"14.00\">samples = 48</text>\n",
       "<text text-anchor=\"middle\" x=\"200\" y=\"-127.3\" font-family=\"Helvetica,sans-Serif\" font-size=\"14.00\">value = [0, 47, 1]</text>\n",
       "<text text-anchor=\"middle\" x=\"200\" y=\"-112.3\" font-family=\"Helvetica,sans-Serif\" font-size=\"14.00\">class = versicolor</text>\n",
       "</g>\n",
       "<!-- 3&#45;&gt;4 -->\n",
       "<g id=\"edge4\" class=\"edge\"><title>3&#45;&gt;4</title>\n",
       "<path fill=\"none\" stroke=\"black\" d=\"M334.451,-224.391C316.734,-214.193 297.602,-203.181 279.483,-192.751\"/>\n",
       "<polygon fill=\"black\" stroke=\"black\" points=\"281.092,-189.639 270.679,-187.684 277.6,-195.706 281.092,-189.639\"/>\n",
       "</g>\n",
       "<!-- 7 -->\n",
       "<g id=\"node8\" class=\"node\"><title>7</title>\n",
       "<path fill=\"#c09cf2\" stroke=\"black\" d=\"M476.25,-187.5C476.25,-187.5 333.75,-187.5 333.75,-187.5 327.75,-187.5 321.75,-181.5 321.75,-175.5 321.75,-175.5 321.75,-116.5 321.75,-116.5 321.75,-110.5 327.75,-104.5 333.75,-104.5 333.75,-104.5 476.25,-104.5 476.25,-104.5 482.25,-104.5 488.25,-110.5 488.25,-116.5 488.25,-116.5 488.25,-175.5 488.25,-175.5 488.25,-181.5 482.25,-187.5 476.25,-187.5\"/>\n",
       "<text text-anchor=\"middle\" x=\"405\" y=\"-172.3\" font-family=\"Helvetica,sans-Serif\" font-size=\"14.00\">petal width (cm) &lt;= 1.55</text>\n",
       "<text text-anchor=\"middle\" x=\"405\" y=\"-157.3\" font-family=\"Helvetica,sans-Serif\" font-size=\"14.00\">gini = 0.444</text>\n",
       "<text text-anchor=\"middle\" x=\"405\" y=\"-142.3\" font-family=\"Helvetica,sans-Serif\" font-size=\"14.00\">samples = 6</text>\n",
       "<text text-anchor=\"middle\" x=\"405\" y=\"-127.3\" font-family=\"Helvetica,sans-Serif\" font-size=\"14.00\">value = [0, 2, 4]</text>\n",
       "<text text-anchor=\"middle\" x=\"405\" y=\"-112.3\" font-family=\"Helvetica,sans-Serif\" font-size=\"14.00\">class = virginica</text>\n",
       "</g>\n",
       "<!-- 3&#45;&gt;7 -->\n",
       "<g id=\"edge7\" class=\"edge\"><title>3&#45;&gt;7</title>\n",
       "<path fill=\"none\" stroke=\"black\" d=\"M405,-224.391C405,-215.862 405,-206.763 405,-197.912\"/>\n",
       "<polygon fill=\"black\" stroke=\"black\" points=\"408.5,-197.684 405,-187.684 401.5,-197.684 408.5,-197.684\"/>\n",
       "</g>\n",
       "<!-- 5 -->\n",
       "<g id=\"node6\" class=\"node\"><title>5</title>\n",
       "<path fill=\"#39e581\" stroke=\"black\" d=\"M112,-68C112,-68 12,-68 12,-68 6,-68 0,-62 0,-56 0,-56 0,-12 0,-12 0,-6 6,-0 12,-0 12,-0 112,-0 112,-0 118,-0 124,-6 124,-12 124,-12 124,-56 124,-56 124,-62 118,-68 112,-68\"/>\n",
       "<text text-anchor=\"middle\" x=\"62\" y=\"-52.8\" font-family=\"Helvetica,sans-Serif\" font-size=\"14.00\">gini = 0.0</text>\n",
       "<text text-anchor=\"middle\" x=\"62\" y=\"-37.8\" font-family=\"Helvetica,sans-Serif\" font-size=\"14.00\">samples = 47</text>\n",
       "<text text-anchor=\"middle\" x=\"62\" y=\"-22.8\" font-family=\"Helvetica,sans-Serif\" font-size=\"14.00\">value = [0, 47, 0]</text>\n",
       "<text text-anchor=\"middle\" x=\"62\" y=\"-7.8\" font-family=\"Helvetica,sans-Serif\" font-size=\"14.00\">class = versicolor</text>\n",
       "</g>\n",
       "<!-- 4&#45;&gt;5 -->\n",
       "<g id=\"edge5\" class=\"edge\"><title>4&#45;&gt;5</title>\n",
       "<path fill=\"none\" stroke=\"black\" d=\"M149.006,-104.353C136.787,-94.613 123.759,-84.2278 111.604,-74.5393\"/>\n",
       "<polygon fill=\"black\" stroke=\"black\" points=\"113.761,-71.7832 103.76,-68.287 109.398,-77.257 113.761,-71.7832\"/>\n",
       "</g>\n",
       "<!-- 6 -->\n",
       "<g id=\"node7\" class=\"node\"><title>6</title>\n",
       "<path fill=\"#8139e5\" stroke=\"black\" d=\"M246,-68C246,-68 154,-68 154,-68 148,-68 142,-62 142,-56 142,-56 142,-12 142,-12 142,-6 148,-0 154,-0 154,-0 246,-0 246,-0 252,-0 258,-6 258,-12 258,-12 258,-56 258,-56 258,-62 252,-68 246,-68\"/>\n",
       "<text text-anchor=\"middle\" x=\"200\" y=\"-52.8\" font-family=\"Helvetica,sans-Serif\" font-size=\"14.00\">gini = 0.0</text>\n",
       "<text text-anchor=\"middle\" x=\"200\" y=\"-37.8\" font-family=\"Helvetica,sans-Serif\" font-size=\"14.00\">samples = 1</text>\n",
       "<text text-anchor=\"middle\" x=\"200\" y=\"-22.8\" font-family=\"Helvetica,sans-Serif\" font-size=\"14.00\">value = [0, 0, 1]</text>\n",
       "<text text-anchor=\"middle\" x=\"200\" y=\"-7.8\" font-family=\"Helvetica,sans-Serif\" font-size=\"14.00\">class = virginica</text>\n",
       "</g>\n",
       "<!-- 4&#45;&gt;6 -->\n",
       "<g id=\"edge6\" class=\"edge\"><title>4&#45;&gt;6</title>\n",
       "<path fill=\"none\" stroke=\"black\" d=\"M200,-104.353C200,-95.9116 200,-86.9857 200,-78.4487\"/>\n",
       "<polygon fill=\"black\" stroke=\"black\" points=\"203.5,-78.2869 200,-68.287 196.5,-78.287 203.5,-78.2869\"/>\n",
       "</g>\n",
       "<!-- 8 -->\n",
       "<g id=\"node9\" class=\"node\"><title>8</title>\n",
       "<path fill=\"#8139e5\" stroke=\"black\" d=\"M380,-68C380,-68 288,-68 288,-68 282,-68 276,-62 276,-56 276,-56 276,-12 276,-12 276,-6 282,-0 288,-0 288,-0 380,-0 380,-0 386,-0 392,-6 392,-12 392,-12 392,-56 392,-56 392,-62 386,-68 380,-68\"/>\n",
       "<text text-anchor=\"middle\" x=\"334\" y=\"-52.8\" font-family=\"Helvetica,sans-Serif\" font-size=\"14.00\">gini = 0.0</text>\n",
       "<text text-anchor=\"middle\" x=\"334\" y=\"-37.8\" font-family=\"Helvetica,sans-Serif\" font-size=\"14.00\">samples = 3</text>\n",
       "<text text-anchor=\"middle\" x=\"334\" y=\"-22.8\" font-family=\"Helvetica,sans-Serif\" font-size=\"14.00\">value = [0, 0, 3]</text>\n",
       "<text text-anchor=\"middle\" x=\"334\" y=\"-7.8\" font-family=\"Helvetica,sans-Serif\" font-size=\"14.00\">class = virginica</text>\n",
       "</g>\n",
       "<!-- 7&#45;&gt;8 -->\n",
       "<g id=\"edge8\" class=\"edge\"><title>7&#45;&gt;8</title>\n",
       "<path fill=\"none\" stroke=\"black\" d=\"M378.764,-104.353C372.956,-95.3551 366.793,-85.8066 360.958,-76.7654\"/>\n",
       "<polygon fill=\"black\" stroke=\"black\" points=\"363.849,-74.7908 355.485,-68.287 357.968,-78.5869 363.849,-74.7908\"/>\n",
       "</g>\n",
       "<!-- 9 -->\n",
       "<g id=\"node10\" class=\"node\"><title>9</title>\n",
       "<path fill=\"#9cf2c0\" stroke=\"black\" d=\"M522,-68C522,-68 422,-68 422,-68 416,-68 410,-62 410,-56 410,-56 410,-12 410,-12 410,-6 416,-0 422,-0 422,-0 522,-0 522,-0 528,-0 534,-6 534,-12 534,-12 534,-56 534,-56 534,-62 528,-68 522,-68\"/>\n",
       "<text text-anchor=\"middle\" x=\"472\" y=\"-52.8\" font-family=\"Helvetica,sans-Serif\" font-size=\"14.00\">gini = 0.444</text>\n",
       "<text text-anchor=\"middle\" x=\"472\" y=\"-37.8\" font-family=\"Helvetica,sans-Serif\" font-size=\"14.00\">samples = 3</text>\n",
       "<text text-anchor=\"middle\" x=\"472\" y=\"-22.8\" font-family=\"Helvetica,sans-Serif\" font-size=\"14.00\">value = [0, 2, 1]</text>\n",
       "<text text-anchor=\"middle\" x=\"472\" y=\"-7.8\" font-family=\"Helvetica,sans-Serif\" font-size=\"14.00\">class = versicolor</text>\n",
       "</g>\n",
       "<!-- 7&#45;&gt;9 -->\n",
       "<g id=\"edge9\" class=\"edge\"><title>7&#45;&gt;9</title>\n",
       "<path fill=\"none\" stroke=\"black\" d=\"M429.758,-104.353C435.182,-95.4478 440.934,-86.0034 446.391,-77.0452\"/>\n",
       "<polygon fill=\"black\" stroke=\"black\" points=\"449.512,-78.6482 451.725,-68.287 443.534,-75.0068 449.512,-78.6482\"/>\n",
       "</g>\n",
       "<!-- 11 -->\n",
       "<g id=\"node12\" class=\"node\"><title>11</title>\n",
       "<path fill=\"#c09cf2\" stroke=\"black\" d=\"M689.25,-187.5C689.25,-187.5 538.75,-187.5 538.75,-187.5 532.75,-187.5 526.75,-181.5 526.75,-175.5 526.75,-175.5 526.75,-116.5 526.75,-116.5 526.75,-110.5 532.75,-104.5 538.75,-104.5 538.75,-104.5 689.25,-104.5 689.25,-104.5 695.25,-104.5 701.25,-110.5 701.25,-116.5 701.25,-116.5 701.25,-175.5 701.25,-175.5 701.25,-181.5 695.25,-187.5 689.25,-187.5\"/>\n",
       "<text text-anchor=\"middle\" x=\"614\" y=\"-172.3\" font-family=\"Helvetica,sans-Serif\" font-size=\"14.00\">sepal length (cm) &lt;= 5.95</text>\n",
       "<text text-anchor=\"middle\" x=\"614\" y=\"-157.3\" font-family=\"Helvetica,sans-Serif\" font-size=\"14.00\">gini = 0.444</text>\n",
       "<text text-anchor=\"middle\" x=\"614\" y=\"-142.3\" font-family=\"Helvetica,sans-Serif\" font-size=\"14.00\">samples = 3</text>\n",
       "<text text-anchor=\"middle\" x=\"614\" y=\"-127.3\" font-family=\"Helvetica,sans-Serif\" font-size=\"14.00\">value = [0, 1, 2]</text>\n",
       "<text text-anchor=\"middle\" x=\"614\" y=\"-112.3\" font-family=\"Helvetica,sans-Serif\" font-size=\"14.00\">class = virginica</text>\n",
       "</g>\n",
       "<!-- 10&#45;&gt;11 -->\n",
       "<g id=\"edge11\" class=\"edge\"><title>10&#45;&gt;11</title>\n",
       "<path fill=\"none\" stroke=\"black\" d=\"M614,-224.391C614,-215.862 614,-206.763 614,-197.912\"/>\n",
       "<polygon fill=\"black\" stroke=\"black\" points=\"617.5,-197.684 614,-187.684 610.5,-197.684 617.5,-197.684\"/>\n",
       "</g>\n",
       "<!-- 14 -->\n",
       "<g id=\"node15\" class=\"node\"><title>14</title>\n",
       "<path fill=\"#8139e5\" stroke=\"black\" d=\"M828,-180C828,-180 732,-180 732,-180 726,-180 720,-174 720,-168 720,-168 720,-124 720,-124 720,-118 726,-112 732,-112 732,-112 828,-112 828,-112 834,-112 840,-118 840,-124 840,-124 840,-168 840,-168 840,-174 834,-180 828,-180\"/>\n",
       "<text text-anchor=\"middle\" x=\"780\" y=\"-164.8\" font-family=\"Helvetica,sans-Serif\" font-size=\"14.00\">gini = 0.0</text>\n",
       "<text text-anchor=\"middle\" x=\"780\" y=\"-149.8\" font-family=\"Helvetica,sans-Serif\" font-size=\"14.00\">samples = 43</text>\n",
       "<text text-anchor=\"middle\" x=\"780\" y=\"-134.8\" font-family=\"Helvetica,sans-Serif\" font-size=\"14.00\">value = [0, 0, 43]</text>\n",
       "<text text-anchor=\"middle\" x=\"780\" y=\"-119.8\" font-family=\"Helvetica,sans-Serif\" font-size=\"14.00\">class = virginica</text>\n",
       "</g>\n",
       "<!-- 10&#45;&gt;14 -->\n",
       "<g id=\"edge14\" class=\"edge\"><title>10&#45;&gt;14</title>\n",
       "<path fill=\"none\" stroke=\"black\" d=\"M671.128,-224.391C688.617,-211.959 707.81,-198.316 725.144,-185.994\"/>\n",
       "<polygon fill=\"black\" stroke=\"black\" points=\"727.366,-188.709 733.489,-180.062 723.311,-183.003 727.366,-188.709\"/>\n",
       "</g>\n",
       "<!-- 12 -->\n",
       "<g id=\"node13\" class=\"node\"><title>12</title>\n",
       "<path fill=\"#39e581\" stroke=\"black\" d=\"M664,-68C664,-68 564,-68 564,-68 558,-68 552,-62 552,-56 552,-56 552,-12 552,-12 552,-6 558,-0 564,-0 564,-0 664,-0 664,-0 670,-0 676,-6 676,-12 676,-12 676,-56 676,-56 676,-62 670,-68 664,-68\"/>\n",
       "<text text-anchor=\"middle\" x=\"614\" y=\"-52.8\" font-family=\"Helvetica,sans-Serif\" font-size=\"14.00\">gini = 0.0</text>\n",
       "<text text-anchor=\"middle\" x=\"614\" y=\"-37.8\" font-family=\"Helvetica,sans-Serif\" font-size=\"14.00\">samples = 1</text>\n",
       "<text text-anchor=\"middle\" x=\"614\" y=\"-22.8\" font-family=\"Helvetica,sans-Serif\" font-size=\"14.00\">value = [0, 1, 0]</text>\n",
       "<text text-anchor=\"middle\" x=\"614\" y=\"-7.8\" font-family=\"Helvetica,sans-Serif\" font-size=\"14.00\">class = versicolor</text>\n",
       "</g>\n",
       "<!-- 11&#45;&gt;12 -->\n",
       "<g id=\"edge12\" class=\"edge\"><title>11&#45;&gt;12</title>\n",
       "<path fill=\"none\" stroke=\"black\" d=\"M614,-104.353C614,-95.9116 614,-86.9857 614,-78.4487\"/>\n",
       "<polygon fill=\"black\" stroke=\"black\" points=\"617.5,-78.2869 614,-68.287 610.5,-78.287 617.5,-78.2869\"/>\n",
       "</g>\n",
       "<!-- 13 -->\n",
       "<g id=\"node14\" class=\"node\"><title>13</title>\n",
       "<path fill=\"#8139e5\" stroke=\"black\" d=\"M798,-68C798,-68 706,-68 706,-68 700,-68 694,-62 694,-56 694,-56 694,-12 694,-12 694,-6 700,-0 706,-0 706,-0 798,-0 798,-0 804,-0 810,-6 810,-12 810,-12 810,-56 810,-56 810,-62 804,-68 798,-68\"/>\n",
       "<text text-anchor=\"middle\" x=\"752\" y=\"-52.8\" font-family=\"Helvetica,sans-Serif\" font-size=\"14.00\">gini = 0.0</text>\n",
       "<text text-anchor=\"middle\" x=\"752\" y=\"-37.8\" font-family=\"Helvetica,sans-Serif\" font-size=\"14.00\">samples = 2</text>\n",
       "<text text-anchor=\"middle\" x=\"752\" y=\"-22.8\" font-family=\"Helvetica,sans-Serif\" font-size=\"14.00\">value = [0, 0, 2]</text>\n",
       "<text text-anchor=\"middle\" x=\"752\" y=\"-7.8\" font-family=\"Helvetica,sans-Serif\" font-size=\"14.00\">class = virginica</text>\n",
       "</g>\n",
       "<!-- 11&#45;&gt;13 -->\n",
       "<g id=\"edge13\" class=\"edge\"><title>11&#45;&gt;13</title>\n",
       "<path fill=\"none\" stroke=\"black\" d=\"M664.994,-104.353C677.213,-94.613 690.241,-84.2278 702.396,-74.5393\"/>\n",
       "<polygon fill=\"black\" stroke=\"black\" points=\"704.602,-77.257 710.24,-68.287 700.239,-71.7832 704.602,-77.257\"/>\n",
       "</g>\n",
       "</g>\n",
       "</svg>\n"
      ],
      "text/plain": [
       "<graphviz.sources.Source at 0x16bb61e80>"
      ]
     },
     "execution_count": 5,
     "metadata": {},
     "output_type": "execute_result"
    }
   ],
   "source": [
    "dot_data = export_graphviz(\n",
    "    tree_clf,\n",
    "    out_file=None,\n",
    "    feature_names=iris.feature_names,\n",
    "    class_names=iris.target_names,\n",
    "    rounded=True,\n",
    "    filled=True\n",
    ")\n",
    "\n",
    "graph = graphviz.Source(dot_data)  \n",
    "\n",
    "graph"
   ]
  },
  {
   "cell_type": "markdown",
   "id": "f34f740a",
   "metadata": {},
   "source": [
    "## Feature Selection\n",
    "\n",
    "Below we determine the importance of the Iris features using the trained Decison Tree model's $feature\\_importances\\_$ property. "
   ]
  },
  {
   "cell_type": "code",
   "execution_count": 6,
   "id": "e51f3683",
   "metadata": {},
   "outputs": [
    {
     "name": "stdout",
     "output_type": "stream",
     "text": [
      "sepal length (cm) : 0.01\n",
      "sepal width (cm) : 0.00\n",
      "petal length (cm) : 0.56\n",
      "petal width (cm) : 0.43\n"
     ]
    }
   ],
   "source": [
    "for i in range(len(iris.feature_names)):\n",
    "    print(\"%10s : %.2f\" % (iris.feature_names[i], tree_clf.feature_importances_[i]))"
   ]
  },
  {
   "cell_type": "markdown",
   "id": "dcb5ab94",
   "metadata": {},
   "source": [
    "## Observation\n",
    "\n",
    "We observe the two most important features are: \n",
    "- Petal length\n",
    "- Petal width"
   ]
  }
 ],
 "metadata": {
  "kernelspec": {
   "display_name": "Python 3 (ipykernel)",
   "language": "python",
   "name": "python3"
  },
  "language_info": {
   "codemirror_mode": {
    "name": "ipython",
    "version": 3
   },
   "file_extension": ".py",
   "mimetype": "text/x-python",
   "name": "python",
   "nbconvert_exporter": "python",
   "pygments_lexer": "ipython3",
   "version": "3.9.10"
  }
 },
 "nbformat": 4,
 "nbformat_minor": 5
}
