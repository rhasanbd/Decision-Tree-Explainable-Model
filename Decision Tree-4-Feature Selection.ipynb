{
 "cells": [
  {
   "cell_type": "markdown",
   "id": "3860f730",
   "metadata": {},
   "source": [
    "# Decision Tree - Feature Selection\n",
    "\n",
    "In this notebook, we perform feature selection using the Decision Tree model. It enables us to detrmine the **relative importance of each feature**, then select the features of higher importance. \n",
    "\n",
    "The Decision Tree training algorithm, e.g., classification and regression trees (CART), provides importance scores of the features. It measures a feature’s importance by looking at how much the tree nodes that use that feature reduce impurity based on the Gini index or entropy. \n",
    "\n",
    "In Scikit-Learn, we can get the feature importance scores by using the $feature\\_importances\\_$ attribute of the Decidsion Tree model."
   ]
  },
  {
   "cell_type": "code",
   "execution_count": 1,
   "id": "41763dbb",
   "metadata": {},
   "outputs": [],
   "source": [
    "import numpy as np\n",
    "\n",
    "import matplotlib as mpl\n",
    "import matplotlib.pyplot as plt\n",
    "\n",
    "from sklearn.datasets import load_iris\n",
    "from sklearn.tree import DecisionTreeClassifier\n",
    "from sklearn.metrics import accuracy_score\n",
    "from sklearn.tree import export_graphviz\n",
    "import graphviz"
   ]
  },
  {
   "cell_type": "markdown",
   "id": "532d4fc1",
   "metadata": {},
   "source": [
    "# Dataset\n",
    "\n",
    "\n",
    "We use the Iris dataset, which is a multivariate data set. \n",
    "\n",
    "This is a famous dataset that contains the sepal and petal length and width of 150 iris flowers of three different species: Iris-Setosa, Iris-Versicolor, and Iris-Virginica\n",
    "\n",
    "There are 4 features: \n",
    "- sepal length (cm)\n",
    "- sepal width (cm)\n",
    "- petal length (cm)\n",
    "- petal width (cm)\n",
    "\n",
    "Total number of samples: 150\n",
    "\n",
    "The dataset is also known as Fisher's Iris data set as it was introduced by the British statistician and biologist Ronald Fisher in his 1936 paper \"The use of multiple measurements in taxonomic problems as an example of linear discriminant analysis\".\n",
    "\n",
    "\n",
    "<img src=\"https://cse.unl.edu/~hasan/IrisFlowers.png\" width=800 height=400>\n"
   ]
  },
  {
   "cell_type": "markdown",
   "id": "fdebe976",
   "metadata": {},
   "source": [
    "## Explore the Dataset"
   ]
  },
  {
   "cell_type": "code",
   "execution_count": 2,
   "id": "b889f0b9",
   "metadata": {},
   "outputs": [
    {
     "name": "stdout",
     "output_type": "stream",
     "text": [
      "\n",
      "Key Values: \n",
      " ['data', 'target', 'frame', 'target_names', 'DESCR', 'feature_names', 'filename', 'data_module']\n",
      "\n",
      "Feature Names: \n",
      " ['sepal length (cm)', 'sepal width (cm)', 'petal length (cm)', 'petal width (cm)']\n",
      "\n",
      "Target Names: \n",
      " ['setosa', 'versicolor', 'virginica']\n"
     ]
    }
   ],
   "source": [
    "iris = load_iris()\n",
    "\n",
    "# See the key values\n",
    "print(\"\\nKey Values: \\n\", list(iris.keys()))\n",
    "\n",
    "# The feature names\n",
    "print(\"\\nFeature Names: \\n\", list(iris.feature_names))\n",
    "\n",
    "# The target names\n",
    "print(\"\\nTarget Names: \\n\", list(iris.target_names))\n",
    "\n",
    "# The target values (codes)\n",
    "#print(\"\\nTarget Values: \\n\", list(iris.target))"
   ]
  },
  {
   "cell_type": "markdown",
   "id": "cb8c57ce",
   "metadata": {},
   "source": [
    "## Create Data Matrix (X) and the 1D Target Array (y)"
   ]
  },
  {
   "cell_type": "code",
   "execution_count": 3,
   "id": "0e0dc36a",
   "metadata": {},
   "outputs": [
    {
     "name": "stdout",
     "output_type": "stream",
     "text": [
      "X shape:  (150, 4)\n",
      "y shape:  (150,)\n",
      "\n",
      "X data type:  float64\n",
      "y data type:  int64\n"
     ]
    }
   ],
   "source": [
    "# Feature matrix\n",
    "X = iris[\"data\"]\n",
    "\n",
    "# Target Array\n",
    "y = iris[\"target\"]\n",
    "\n",
    "\n",
    "print(\"X shape: \", X.shape)\n",
    "print(\"y shape: \", y.shape)\n",
    "\n",
    "print(\"\\nX data type: \", X.dtype)\n",
    "print(\"y data type: \", y.dtype)"
   ]
  },
  {
   "cell_type": "markdown",
   "id": "2887d30b",
   "metadata": {},
   "source": [
    "## Train a Decision Tree Model\n",
    "\n",
    "We train a Decision Tree model. Ideally, we must tune the hyperparameters."
   ]
  },
  {
   "cell_type": "code",
   "execution_count": 4,
   "id": "baee7871",
   "metadata": {},
   "outputs": [
    {
     "name": "stdout",
     "output_type": "stream",
     "text": [
      "Accuracy:  0.96\n"
     ]
    }
   ],
   "source": [
    "tree_clf = DecisionTreeClassifier(max_depth=2)\n",
    "tree_clf.fit(X, y)\n",
    "\n",
    "y_predict = tree_clf.predict(X)\n",
    "\n",
    "print(\"Accuracy: \", accuracy_score(y, y_predict))"
   ]
  },
  {
   "cell_type": "markdown",
   "id": "075204f9",
   "metadata": {},
   "source": [
    "## Visualizing The Decision Tree"
   ]
  },
  {
   "cell_type": "code",
   "execution_count": 5,
   "id": "5ac1b763",
   "metadata": {},
   "outputs": [
    {
     "data": {
      "image/svg+xml": [
       "<?xml version=\"1.0\" encoding=\"UTF-8\" standalone=\"no\"?>\n",
       "<!DOCTYPE svg PUBLIC \"-//W3C//DTD SVG 1.1//EN\"\n",
       " \"http://www.w3.org/Graphics/SVG/1.1/DTD/svg11.dtd\">\n",
       "<!-- Generated by graphviz version 2.36.0 (20140111.2315)\n",
       " -->\n",
       "<!-- Title: Tree Pages: 1 -->\n",
       "<svg width=\"360pt\" height=\"316pt\"\n",
       " viewBox=\"0.00 0.00 360.00 316.00\" xmlns=\"http://www.w3.org/2000/svg\" xmlns:xlink=\"http://www.w3.org/1999/xlink\">\n",
       "<g id=\"graph0\" class=\"graph\" transform=\"scale(1 1) rotate(0) translate(4 312)\">\n",
       "<title>Tree</title>\n",
       "<polygon fill=\"white\" stroke=\"none\" points=\"-4,4 -4,-312 356,-312 356,4 -4,4\"/>\n",
       "<!-- 0 -->\n",
       "<g id=\"node1\" class=\"node\"><title>0</title>\n",
       "<path fill=\"#ffffff\" stroke=\"black\" d=\"M208.25,-307.5C208.25,-307.5 73.75,-307.5 73.75,-307.5 67.75,-307.5 61.75,-301.5 61.75,-295.5 61.75,-295.5 61.75,-236.5 61.75,-236.5 61.75,-230.5 67.75,-224.5 73.75,-224.5 73.75,-224.5 208.25,-224.5 208.25,-224.5 214.25,-224.5 220.25,-230.5 220.25,-236.5 220.25,-236.5 220.25,-295.5 220.25,-295.5 220.25,-301.5 214.25,-307.5 208.25,-307.5\"/>\n",
       "<text text-anchor=\"middle\" x=\"141\" y=\"-292.3\" font-family=\"Helvetica,sans-Serif\" font-size=\"14.00\">petal width (cm) &lt;= 0.8</text>\n",
       "<text text-anchor=\"middle\" x=\"141\" y=\"-277.3\" font-family=\"Helvetica,sans-Serif\" font-size=\"14.00\">gini = 0.667</text>\n",
       "<text text-anchor=\"middle\" x=\"141\" y=\"-262.3\" font-family=\"Helvetica,sans-Serif\" font-size=\"14.00\">samples = 150</text>\n",
       "<text text-anchor=\"middle\" x=\"141\" y=\"-247.3\" font-family=\"Helvetica,sans-Serif\" font-size=\"14.00\">value = [50, 50, 50]</text>\n",
       "<text text-anchor=\"middle\" x=\"141\" y=\"-232.3\" font-family=\"Helvetica,sans-Serif\" font-size=\"14.00\">class = setosa</text>\n",
       "</g>\n",
       "<!-- 1 -->\n",
       "<g id=\"node2\" class=\"node\"><title>1</title>\n",
       "<path fill=\"#e58139\" stroke=\"black\" d=\"M108,-180C108,-180 12,-180 12,-180 6,-180 0,-174 0,-168 0,-168 0,-124 0,-124 0,-118 6,-112 12,-112 12,-112 108,-112 108,-112 114,-112 120,-118 120,-124 120,-124 120,-168 120,-168 120,-174 114,-180 108,-180\"/>\n",
       "<text text-anchor=\"middle\" x=\"60\" y=\"-164.8\" font-family=\"Helvetica,sans-Serif\" font-size=\"14.00\">gini = 0.0</text>\n",
       "<text text-anchor=\"middle\" x=\"60\" y=\"-149.8\" font-family=\"Helvetica,sans-Serif\" font-size=\"14.00\">samples = 50</text>\n",
       "<text text-anchor=\"middle\" x=\"60\" y=\"-134.8\" font-family=\"Helvetica,sans-Serif\" font-size=\"14.00\">value = [50, 0, 0]</text>\n",
       "<text text-anchor=\"middle\" x=\"60\" y=\"-119.8\" font-family=\"Helvetica,sans-Serif\" font-size=\"14.00\">class = setosa</text>\n",
       "</g>\n",
       "<!-- 0&#45;&gt;1 -->\n",
       "<g id=\"edge1\" class=\"edge\"><title>0&#45;&gt;1</title>\n",
       "<path fill=\"none\" stroke=\"black\" d=\"M113.124,-224.391C105.17,-212.804 96.4944,-200.165 88.5033,-188.523\"/>\n",
       "<polygon fill=\"black\" stroke=\"black\" points=\"91.3708,-186.516 82.8258,-180.252 85.5996,-190.478 91.3708,-186.516\"/>\n",
       "<text text-anchor=\"middle\" x=\"78.2559\" y=\"-201.131\" font-family=\"Helvetica,sans-Serif\" font-size=\"14.00\">True</text>\n",
       "</g>\n",
       "<!-- 2 -->\n",
       "<g id=\"node3\" class=\"node\"><title>2</title>\n",
       "<path fill=\"#ffffff\" stroke=\"black\" d=\"M293.25,-187.5C293.25,-187.5 150.75,-187.5 150.75,-187.5 144.75,-187.5 138.75,-181.5 138.75,-175.5 138.75,-175.5 138.75,-116.5 138.75,-116.5 138.75,-110.5 144.75,-104.5 150.75,-104.5 150.75,-104.5 293.25,-104.5 293.25,-104.5 299.25,-104.5 305.25,-110.5 305.25,-116.5 305.25,-116.5 305.25,-175.5 305.25,-175.5 305.25,-181.5 299.25,-187.5 293.25,-187.5\"/>\n",
       "<text text-anchor=\"middle\" x=\"222\" y=\"-172.3\" font-family=\"Helvetica,sans-Serif\" font-size=\"14.00\">petal width (cm) &lt;= 1.75</text>\n",
       "<text text-anchor=\"middle\" x=\"222\" y=\"-157.3\" font-family=\"Helvetica,sans-Serif\" font-size=\"14.00\">gini = 0.5</text>\n",
       "<text text-anchor=\"middle\" x=\"222\" y=\"-142.3\" font-family=\"Helvetica,sans-Serif\" font-size=\"14.00\">samples = 100</text>\n",
       "<text text-anchor=\"middle\" x=\"222\" y=\"-127.3\" font-family=\"Helvetica,sans-Serif\" font-size=\"14.00\">value = [0, 50, 50]</text>\n",
       "<text text-anchor=\"middle\" x=\"222\" y=\"-112.3\" font-family=\"Helvetica,sans-Serif\" font-size=\"14.00\">class = versicolor</text>\n",
       "</g>\n",
       "<!-- 0&#45;&gt;2 -->\n",
       "<g id=\"edge2\" class=\"edge\"><title>0&#45;&gt;2</title>\n",
       "<path fill=\"none\" stroke=\"black\" d=\"M168.876,-224.391C175.112,-215.306 181.793,-205.574 188.239,-196.183\"/>\n",
       "<polygon fill=\"black\" stroke=\"black\" points=\"191.299,-197.909 194.073,-187.684 185.528,-193.947 191.299,-197.909\"/>\n",
       "<text text-anchor=\"middle\" x=\"198.643\" y=\"-208.563\" font-family=\"Helvetica,sans-Serif\" font-size=\"14.00\">False</text>\n",
       "</g>\n",
       "<!-- 3 -->\n",
       "<g id=\"node4\" class=\"node\"><title>3</title>\n",
       "<path fill=\"#4de88e\" stroke=\"black\" d=\"M202,-68C202,-68 102,-68 102,-68 96,-68 90,-62 90,-56 90,-56 90,-12 90,-12 90,-6 96,-0 102,-0 102,-0 202,-0 202,-0 208,-0 214,-6 214,-12 214,-12 214,-56 214,-56 214,-62 208,-68 202,-68\"/>\n",
       "<text text-anchor=\"middle\" x=\"152\" y=\"-52.8\" font-family=\"Helvetica,sans-Serif\" font-size=\"14.00\">gini = 0.168</text>\n",
       "<text text-anchor=\"middle\" x=\"152\" y=\"-37.8\" font-family=\"Helvetica,sans-Serif\" font-size=\"14.00\">samples = 54</text>\n",
       "<text text-anchor=\"middle\" x=\"152\" y=\"-22.8\" font-family=\"Helvetica,sans-Serif\" font-size=\"14.00\">value = [0, 49, 5]</text>\n",
       "<text text-anchor=\"middle\" x=\"152\" y=\"-7.8\" font-family=\"Helvetica,sans-Serif\" font-size=\"14.00\">class = versicolor</text>\n",
       "</g>\n",
       "<!-- 2&#45;&gt;3 -->\n",
       "<g id=\"edge3\" class=\"edge\"><title>2&#45;&gt;3</title>\n",
       "<path fill=\"none\" stroke=\"black\" d=\"M196.133,-104.353C190.408,-95.3551 184.331,-85.8066 178.578,-76.7654\"/>\n",
       "<polygon fill=\"black\" stroke=\"black\" points=\"181.504,-74.8445 173.183,-68.287 175.599,-78.6027 181.504,-74.8445\"/>\n",
       "</g>\n",
       "<!-- 4 -->\n",
       "<g id=\"node5\" class=\"node\"><title>4</title>\n",
       "<path fill=\"#843de6\" stroke=\"black\" d=\"M340,-68C340,-68 244,-68 244,-68 238,-68 232,-62 232,-56 232,-56 232,-12 232,-12 232,-6 238,-0 244,-0 244,-0 340,-0 340,-0 346,-0 352,-6 352,-12 352,-12 352,-56 352,-56 352,-62 346,-68 340,-68\"/>\n",
       "<text text-anchor=\"middle\" x=\"292\" y=\"-52.8\" font-family=\"Helvetica,sans-Serif\" font-size=\"14.00\">gini = 0.043</text>\n",
       "<text text-anchor=\"middle\" x=\"292\" y=\"-37.8\" font-family=\"Helvetica,sans-Serif\" font-size=\"14.00\">samples = 46</text>\n",
       "<text text-anchor=\"middle\" x=\"292\" y=\"-22.8\" font-family=\"Helvetica,sans-Serif\" font-size=\"14.00\">value = [0, 1, 45]</text>\n",
       "<text text-anchor=\"middle\" x=\"292\" y=\"-7.8\" font-family=\"Helvetica,sans-Serif\" font-size=\"14.00\">class = virginica</text>\n",
       "</g>\n",
       "<!-- 2&#45;&gt;4 -->\n",
       "<g id=\"edge4\" class=\"edge\"><title>2&#45;&gt;4</title>\n",
       "<path fill=\"none\" stroke=\"black\" d=\"M247.867,-104.353C253.592,-95.3551 259.669,-85.8066 265.422,-76.7654\"/>\n",
       "<polygon fill=\"black\" stroke=\"black\" points=\"268.401,-78.6027 270.817,-68.287 262.496,-74.8445 268.401,-78.6027\"/>\n",
       "</g>\n",
       "</g>\n",
       "</svg>\n"
      ],
      "text/plain": [
       "<graphviz.sources.Source at 0x169d95c10>"
      ]
     },
     "execution_count": 5,
     "metadata": {},
     "output_type": "execute_result"
    }
   ],
   "source": [
    "dot_data = export_graphviz(\n",
    "    tree_clf,\n",
    "    out_file=None,\n",
    "    feature_names=iris.feature_names,\n",
    "    class_names=iris.target_names,\n",
    "    rounded=True,\n",
    "    filled=True\n",
    ")\n",
    "\n",
    "graph = graphviz.Source(dot_data)  \n",
    "\n",
    "graph"
   ]
  },
  {
   "cell_type": "markdown",
   "id": "3ebba09e",
   "metadata": {},
   "source": [
    "## Feature Selection\n",
    "\n",
    "Below we determine the importance of the Iris features using the trained Decison Tree model's $feature\\_importances\\_$ property. "
   ]
  },
  {
   "cell_type": "code",
   "execution_count": 6,
   "id": "8d65e0a9",
   "metadata": {},
   "outputs": [
    {
     "name": "stdout",
     "output_type": "stream",
     "text": [
      "sepal length (cm) : 0.00\n",
      "sepal width (cm) : 0.00\n",
      "petal length (cm) : 0.00\n",
      "petal width (cm) : 1.00\n"
     ]
    }
   ],
   "source": [
    "for i in range(len(iris.feature_names)):\n",
    "    print(\"%10s : %.2f\" % (iris.feature_names[i], tree_clf.feature_importances_[i]))"
   ]
  },
  {
   "cell_type": "markdown",
   "id": "973c6fd9",
   "metadata": {},
   "source": [
    "## Observation\n",
    "\n",
    "We observe the two most important features are: \n",
    "- Petal length\n",
    "- Petal width"
   ]
  }
 ],
 "metadata": {
  "kernelspec": {
   "display_name": "Python 3 (ipykernel)",
   "language": "python",
   "name": "python3"
  },
  "language_info": {
   "codemirror_mode": {
    "name": "ipython",
    "version": 3
   },
   "file_extension": ".py",
   "mimetype": "text/x-python",
   "name": "python",
   "nbconvert_exporter": "python",
   "pygments_lexer": "ipython3",
   "version": "3.9.10"
  }
 },
 "nbformat": 4,
 "nbformat_minor": 5
}
